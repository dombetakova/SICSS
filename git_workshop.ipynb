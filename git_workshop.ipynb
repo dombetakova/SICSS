{
 "cells": [
  {
   "cell_type": "code",
   "execution_count": 1,
   "metadata": {},
   "outputs": [
    {
     "name": "stdout",
     "output_type": "stream",
     "text": [
      "Hello world\n"
     ]
    }
   ],
   "source": [
    "print(\"Hello world\")"
   ]
  },
  {
   "cell_type": "markdown",
   "metadata": {},
   "source": [
    "Most of us write code without specific training.\n",
    "Applicability and replicability\n",
    "Liu and Sagalink (2019) special issue with simultaneous code submission\n",
    "Writing code in a publishable way from the start!\n",
    "Gentzkow and Shapiro \"Code and Data for the Social Sciences\": https://web.stanford.edu/~gentzkow/research/CodeAndData.pdf"
   ]
  },
  {
   "cell_type": "markdown",
   "metadata": {},
   "source": [
    "# GOLDEN RULES\n",
    "\n",
    "I. Data and Code organisation: make it modular, so for each individual function you have specific blocs of:\n",
    "    1) inputs\n",
    "    2) outputs\n",
    "    3) code\n",
    "    4) temp\n",
    "\n",
    "This also helps distinguish modules that runf ast and those that take a long time.\n",
    "\n",
    "Make directories portable: relative paths\n",
    "Each directory has a single master script + a master-master script.\n",
    "\n",
    "Environment file with used packages and version of python!\n",
    "\n",
    "II. A single script that executes everything from begginning to an end.\n",
    "\n",
    "III. A version control software\n",
    "\n",
    "IV. Abstract to eliminate redundancy or improving clarity. Otherwise do not!\n",
    "\n",
    "V. Do not write documentation you will not maintain (it needs to be updated every time you change something).\n",
    "\n",
    "    The code should be self-documenting: executable documentation, assertions, type-hinting/checking (mypy).\n",
    "VI. Code style: short, intuitive, use descriptive names, define constants in variables rather than use \"magic numbers\", complicated calculations should be broken up into pieces, mark and separate fast- and slow-running pieces of code\n",
    "\n",
    "! Sunk cost fallacy: the more time you spent on a code, the more pressure you feel to keep using it (even though going abckwards and improving it would be better)\n",
    "\n",
    "REFACTORING: constantly improve your code to improve its internal strcuture and efficiency without changing its behaviour\n",
    "\n",
    "Trade-offs: beware of running memory (RAM)\n",
    "    use memory-efficient strctures, like arrays and being mindful of some packages that run C\n",
    "    manually clean environment if necessary:"
   ]
  },
  {
   "cell_type": "code",
   "execution_count": null,
   "metadata": {},
   "outputs": [],
   "source": [
    "gc.collect()"
   ]
  },
  {
   "cell_type": "markdown",
   "metadata": {},
   "source": [
    "# GITHUB\n",
    "\n",
    "is a community, you can search by package name and bring up an issue if smth does not work.\n",
    "\n",
    "pay attention to upd frequencz, author responsiveness, etc.\n",
    "\n",
    "* commit (log of) changes in your local directory, each commit has an assigned ID (SHA)\n",
    "* push commits into GitHub: remote version for others (or yourself from another device) to access\n",
    "* clone to create a local path (through desktop app)"
   ]
  }
 ],
 "metadata": {
  "kernelspec": {
   "display_name": "Python 3.12.3 ('base')",
   "language": "python",
   "name": "python3"
  },
  "language_info": {
   "codemirror_mode": {
    "name": "ipython",
    "version": 3
   },
   "file_extension": ".py",
   "mimetype": "text/x-python",
   "name": "python",
   "nbconvert_exporter": "python",
   "pygments_lexer": "ipython3",
   "version": "3.12.3"
  },
  "orig_nbformat": 4,
  "vscode": {
   "interpreter": {
    "hash": "3d597f4c481aa0f25dceb95d2a0067e73c0966dcbd003d741d821a7208527ecf"
   }
  }
 },
 "nbformat": 4,
 "nbformat_minor": 2
}
